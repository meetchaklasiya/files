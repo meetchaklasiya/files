{
 "cells": [
  {
   "cell_type": "code",
   "execution_count": 2,
   "id": "78e10ce1",
   "metadata": {},
   "outputs": [],
   "source": [
    "import pandas as pd"
   ]
  },
  {
   "cell_type": "code",
   "execution_count": 3,
   "id": "213118f8",
   "metadata": {},
   "outputs": [],
   "source": [
    "df = pd.read_csv('updated_biomass_history.csv')"
   ]
  },
  {
   "cell_type": "code",
   "execution_count": 4,
   "id": "9de94f0b",
   "metadata": {},
   "outputs": [
    {
     "data": {
      "text/html": [
       "<div>\n",
       "<style scoped>\n",
       "    .dataframe tbody tr th:only-of-type {\n",
       "        vertical-align: middle;\n",
       "    }\n",
       "\n",
       "    .dataframe tbody tr th {\n",
       "        vertical-align: top;\n",
       "    }\n",
       "\n",
       "    .dataframe thead th {\n",
       "        text-align: right;\n",
       "    }\n",
       "</style>\n",
       "<table border=\"1\" class=\"dataframe\">\n",
       "  <thead>\n",
       "    <tr style=\"text-align: right;\">\n",
       "      <th></th>\n",
       "      <th>Year</th>\n",
       "      <th>Index</th>\n",
       "      <th>Latitude</th>\n",
       "      <th>Longitude</th>\n",
       "      <th>Biomass</th>\n",
       "    </tr>\n",
       "  </thead>\n",
       "  <tbody>\n",
       "    <tr>\n",
       "      <th>0</th>\n",
       "      <td>2010</td>\n",
       "      <td>0</td>\n",
       "      <td>24.66818</td>\n",
       "      <td>71.33144</td>\n",
       "      <td>8.475744</td>\n",
       "    </tr>\n",
       "    <tr>\n",
       "      <th>1</th>\n",
       "      <td>2010</td>\n",
       "      <td>1</td>\n",
       "      <td>24.66818</td>\n",
       "      <td>71.41106</td>\n",
       "      <td>24.029778</td>\n",
       "    </tr>\n",
       "    <tr>\n",
       "      <th>2</th>\n",
       "      <td>2010</td>\n",
       "      <td>2</td>\n",
       "      <td>24.66818</td>\n",
       "      <td>71.49069</td>\n",
       "      <td>44.831635</td>\n",
       "    </tr>\n",
       "    <tr>\n",
       "      <th>3</th>\n",
       "      <td>2010</td>\n",
       "      <td>3</td>\n",
       "      <td>24.66818</td>\n",
       "      <td>71.57031</td>\n",
       "      <td>59.974419</td>\n",
       "    </tr>\n",
       "    <tr>\n",
       "      <th>4</th>\n",
       "      <td>2010</td>\n",
       "      <td>4</td>\n",
       "      <td>24.66818</td>\n",
       "      <td>71.64994</td>\n",
       "      <td>14.653370</td>\n",
       "    </tr>\n",
       "  </tbody>\n",
       "</table>\n",
       "</div>"
      ],
      "text/plain": [
       "   Year  Index  Latitude  Longitude    Biomass\n",
       "0  2010      0  24.66818   71.33144   8.475744\n",
       "1  2010      1  24.66818   71.41106  24.029778\n",
       "2  2010      2  24.66818   71.49069  44.831635\n",
       "3  2010      3  24.66818   71.57031  59.974419\n",
       "4  2010      4  24.66818   71.64994  14.653370"
      ]
     },
     "execution_count": 4,
     "metadata": {},
     "output_type": "execute_result"
    }
   ],
   "source": [
    "df.head()"
   ]
  },
  {
   "cell_type": "code",
   "execution_count": 5,
   "id": "3ba9916a",
   "metadata": {},
   "outputs": [],
   "source": [
    "X = df.drop(['Biomass'],axis=1)"
   ]
  },
  {
   "cell_type": "code",
   "execution_count": 6,
   "id": "d4f064de",
   "metadata": {},
   "outputs": [],
   "source": [
    "y = df.Biomass"
   ]
  },
  {
   "cell_type": "code",
   "execution_count": 7,
   "id": "cc6a738c",
   "metadata": {},
   "outputs": [],
   "source": [
    "from sklearn.model_selection import train_test_split\n",
    "\n",
    "X_train,X_test,y_train,y_test = train_test_split(X,y,test_size=0.1)"
   ]
  },
  {
   "cell_type": "code",
   "execution_count": 8,
   "id": "cde2b765",
   "metadata": {},
   "outputs": [],
   "source": [
    "from sklearn.metrics import mean_absolute_error,mean_squared_error,r2_score\n",
    "from sklearn.linear_model import LinearRegression,Ridge,Lasso\n",
    "from sklearn.neighbors import KNeighborsRegressor\n",
    "from sklearn.tree import DecisionTreeRegressor\n",
    "from sklearn.svm import SVR\n",
    "from sklearn.ensemble import RandomForestRegressor,AdaBoostRegressor\n",
    "from sklearn.svm import SVR\n",
    "from sklearn.model_selection import RandomizedSearchCV"
   ]
  },
  {
   "cell_type": "code",
   "execution_count": 9,
   "id": "44e4393c",
   "metadata": {},
   "outputs": [],
   "source": [
    "import numpy as np\n",
    "def evaluate_model(true,predicted):\n",
    "    mae = mean_absolute_error(true,predicted)\n",
    "    mse = mean_squared_error(true,predicted)\n",
    "    rmse = np.sqrt(mean_squared_error(true,predicted))\n",
    "    r2 = r2_score(true,predicted)\n",
    "    return mae,rmse,r2"
   ]
  },
  {
   "cell_type": "code",
   "execution_count": 10,
   "id": "b05b4b7d",
   "metadata": {},
   "outputs": [
    {
     "name": "stdout",
     "output_type": "stream",
     "text": [
      "Linear Regression\n",
      "training set\n",
      "mae: 107.3294\n",
      "rmse: 139.9030\n",
      "r2 score: 0.0393\n",
      "---------------------------------------------\n",
      "testing set\n",
      "mae: 104.4329\n",
      "rmse: 133.7647\n",
      "r2 score: 0.0265\n",
      "=============================================\n",
      "\n",
      "\n",
      "Lasso\n",
      "training set\n",
      "mae: 107.5861\n",
      "rmse: 140.2342\n",
      "r2 score: 0.0348\n",
      "---------------------------------------------\n",
      "testing set\n",
      "mae: 104.4646\n",
      "rmse: 133.8687\n",
      "r2 score: 0.0249\n",
      "=============================================\n",
      "\n",
      "\n",
      "Ridge\n",
      "training set\n",
      "mae: 107.3311\n",
      "rmse: 139.9030\n",
      "r2 score: 0.0393\n",
      "---------------------------------------------\n",
      "testing set\n",
      "mae: 104.4316\n",
      "rmse: 133.7620\n",
      "r2 score: 0.0265\n",
      "=============================================\n",
      "\n",
      "\n"
     ]
    },
    {
     "name": "stderr",
     "output_type": "stream",
     "text": [
      "C:\\Users\\ASUS\\anaconda3\\lib\\site-packages\\sklearn\\linear_model\\_coordinate_descent.py:647: ConvergenceWarning: Objective did not converge. You might want to increase the number of iterations, check the scale of the features or consider increasing regularisation. Duality gap: 1.610e+05, tolerance: 3.547e+04\n",
      "  model = cd_fast.enet_coordinate_descent(\n"
     ]
    },
    {
     "name": "stdout",
     "output_type": "stream",
     "text": [
      "K-Neighbors Regressor\n",
      "training set\n",
      "mae: 31.1627\n",
      "rmse: 53.1733\n",
      "r2 score: 0.8612\n",
      "---------------------------------------------\n",
      "testing set\n",
      "mae: 40.8729\n",
      "rmse: 67.4499\n",
      "r2 score: 0.7525\n",
      "=============================================\n",
      "\n",
      "\n",
      "Decision Tree\n",
      "training set\n",
      "mae: 0.0000\n",
      "rmse: 0.0000\n",
      "r2 score: 1.0000\n",
      "---------------------------------------------\n",
      "testing set\n",
      "mae: 28.7973\n",
      "rmse: 52.4092\n",
      "r2 score: 0.8506\n",
      "=============================================\n",
      "\n",
      "\n",
      "Random Forest Regressor\n",
      "training set\n",
      "mae: 8.2840\n",
      "rmse: 14.5775\n",
      "r2 score: 0.9896\n",
      "---------------------------------------------\n",
      "testing set\n",
      "mae: 22.7124\n",
      "rmse: 37.8619\n",
      "r2 score: 0.9220\n",
      "=============================================\n",
      "\n",
      "\n"
     ]
    }
   ],
   "source": [
    "models = {\n",
    "    'Linear Regression':LinearRegression(),\n",
    "    'Lasso':Lasso(),\n",
    "    'Ridge':Ridge(),\n",
    "    'K-Neighbors Regressor': KNeighborsRegressor(),\n",
    "    'Decision Tree':DecisionTreeRegressor(),\n",
    "    'Random Forest Regressor':RandomForestRegressor(),\n",
    "}\n",
    "\n",
    "modellist=[]\n",
    "r2list=[]\n",
    "\n",
    "for i in range(len(list(models))):\n",
    "    model = list(models.values())[i]\n",
    "    model.fit(X_train,y_train)\n",
    "    \n",
    "    y_train_Pred=model.predict(X_train)\n",
    "    y_test_Pred=model.predict(X_test)\n",
    "    \n",
    "    model_train_mae,model_train_rmse,model_train_r2 = evaluate_model(y_train,y_train_Pred)\n",
    "    model_test_mae,model_test_rmse,model_test_r2 = evaluate_model(y_test,y_test_Pred)\n",
    "    \n",
    "    print(list(models.keys())[i])\n",
    "    modellist.append(list(models.keys())[i])\n",
    "    \n",
    "    print('training set')\n",
    "    print('mae: {:.4f}'.format(model_train_mae))\n",
    "    print('rmse: {:.4f}'.format(model_train_rmse))\n",
    "    print('r2 score: {:.4f}'.format(model_train_r2))\n",
    "    print('---------------------------------------------')\n",
    "    \n",
    "    print('testing set')\n",
    "    print('mae: {:.4f}'.format(model_test_mae))\n",
    "    print('rmse: {:.4f}'.format(model_test_rmse))\n",
    "    print('r2 score: {:.4f}'.format(model_test_r2))\n",
    "    r2list.append(model_test_r2)\n",
    "    \n",
    "    print('=============================================')\n",
    "    print('\\n')"
   ]
  },
  {
   "cell_type": "code",
   "execution_count": 11,
   "id": "26ac7790",
   "metadata": {},
   "outputs": [],
   "source": [
    "model1 = RandomForestRegressor()"
   ]
  },
  {
   "cell_type": "code",
   "execution_count": 12,
   "id": "b7277d23",
   "metadata": {},
   "outputs": [
    {
     "data": {
      "text/plain": [
       "RandomForestRegressor()"
      ]
     },
     "execution_count": 12,
     "metadata": {},
     "output_type": "execute_result"
    }
   ],
   "source": [
    "model1.fit(X_train,y_train)"
   ]
  },
  {
   "cell_type": "code",
   "execution_count": 13,
   "id": "7d715bff",
   "metadata": {},
   "outputs": [
    {
     "name": "stderr",
     "output_type": "stream",
     "text": [
      "C:\\Users\\ASUS\\anaconda3\\lib\\site-packages\\sklearn\\base.py:450: UserWarning: X does not have valid feature names, but RandomForestRegressor was fitted with feature names\n",
      "  warnings.warn(\n"
     ]
    },
    {
     "data": {
      "text/plain": [
       "array([5.87750917])"
      ]
     },
     "execution_count": 13,
     "metadata": {},
     "output_type": "execute_result"
    }
   ],
   "source": [
    "model1.predict([[2018,0,24.66818,71.33144]])"
   ]
  },
  {
   "cell_type": "code",
   "execution_count": 14,
   "id": "c00f8b48",
   "metadata": {},
   "outputs": [
    {
     "name": "stderr",
     "output_type": "stream",
     "text": [
      "C:\\Users\\ASUS\\anaconda3\\lib\\site-packages\\sklearn\\base.py:450: UserWarning: X does not have valid feature names, but RandomForestRegressor was fitted with feature names\n",
      "  warnings.warn(\n"
     ]
    },
    {
     "data": {
      "text/plain": [
       "array([13.30969504])"
      ]
     },
     "execution_count": 14,
     "metadata": {},
     "output_type": "execute_result"
    }
   ],
   "source": [
    "model1.predict([[2018,0,24.66818,72.36657]])"
   ]
  },
  {
   "cell_type": "code",
   "execution_count": 15,
   "id": "b2b18467",
   "metadata": {},
   "outputs": [
    {
     "name": "stderr",
     "output_type": "stream",
     "text": [
      "C:\\Users\\ASUS\\anaconda3\\lib\\site-packages\\sklearn\\base.py:450: UserWarning: X does not have valid feature names, but RandomForestRegressor was fitted with feature names\n",
      "  warnings.warn(\n"
     ]
    },
    {
     "data": {
      "text/plain": [
       "array([40.07730284])"
      ]
     },
     "execution_count": 15,
     "metadata": {},
     "output_type": "execute_result"
    }
   ],
   "source": [
    "model1.predict([[2018,1,24.66818,71.41106]])"
   ]
  },
  {
   "cell_type": "code",
   "execution_count": 16,
   "id": "e2434c28",
   "metadata": {},
   "outputs": [
    {
     "name": "stderr",
     "output_type": "stream",
     "text": [
      "C:\\Users\\ASUS\\anaconda3\\lib\\site-packages\\sklearn\\base.py:450: UserWarning: X does not have valid feature names, but RandomForestRegressor was fitted with feature names\n",
      "  warnings.warn(\n"
     ]
    },
    {
     "data": {
      "text/plain": [
       "array([90.46944809])"
      ]
     },
     "execution_count": 16,
     "metadata": {},
     "output_type": "execute_result"
    }
   ],
   "source": [
    "model1.predict([[2018,3,24.66818,71.57031]])"
   ]
  },
  {
   "cell_type": "code",
   "execution_count": 17,
   "id": "271d17eb",
   "metadata": {},
   "outputs": [],
   "source": [
    "y_pred = model1.predict(X_test)"
   ]
  },
  {
   "cell_type": "code",
   "execution_count": 20,
   "id": "91fb6b8f",
   "metadata": {},
   "outputs": [
    {
     "data": {
      "text/plain": [
       "(19344, 5)"
      ]
     },
     "execution_count": 20,
     "metadata": {},
     "output_type": "execute_result"
    }
   ],
   "source": [
    "df.shape"
   ]
  },
  {
   "cell_type": "code",
   "execution_count": null,
   "id": "791ce046",
   "metadata": {},
   "outputs": [],
   "source": []
  }
 ],
 "metadata": {
  "kernelspec": {
   "display_name": "Python 3 (ipykernel)",
   "language": "python",
   "name": "python3"
  },
  "language_info": {
   "codemirror_mode": {
    "name": "ipython",
    "version": 3
   },
   "file_extension": ".py",
   "mimetype": "text/x-python",
   "name": "python",
   "nbconvert_exporter": "python",
   "pygments_lexer": "ipython3",
   "version": "3.9.13"
  }
 },
 "nbformat": 4,
 "nbformat_minor": 5
}
