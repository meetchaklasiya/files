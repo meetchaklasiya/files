{
 "cells": [
  {
   "cell_type": "code",
   "execution_count": 1,
   "id": "c54bfbda",
   "metadata": {},
   "outputs": [],
   "source": [
    "import pandas as pd"
   ]
  },
  {
   "cell_type": "code",
   "execution_count": 2,
   "id": "5553d2d7",
   "metadata": {},
   "outputs": [],
   "source": [
    "df = pd.read_csv('updated_biomass_history.csv')"
   ]
  },
  {
   "cell_type": "code",
   "execution_count": 3,
   "id": "5856a72e",
   "metadata": {},
   "outputs": [
    {
     "data": {
      "text/html": [
       "<div>\n",
       "<style scoped>\n",
       "    .dataframe tbody tr th:only-of-type {\n",
       "        vertical-align: middle;\n",
       "    }\n",
       "\n",
       "    .dataframe tbody tr th {\n",
       "        vertical-align: top;\n",
       "    }\n",
       "\n",
       "    .dataframe thead th {\n",
       "        text-align: right;\n",
       "    }\n",
       "</style>\n",
       "<table border=\"1\" class=\"dataframe\">\n",
       "  <thead>\n",
       "    <tr style=\"text-align: right;\">\n",
       "      <th></th>\n",
       "      <th>Year</th>\n",
       "      <th>Index</th>\n",
       "      <th>Latitude</th>\n",
       "      <th>Longitude</th>\n",
       "      <th>Biomass</th>\n",
       "    </tr>\n",
       "  </thead>\n",
       "  <tbody>\n",
       "    <tr>\n",
       "      <th>0</th>\n",
       "      <td>2010</td>\n",
       "      <td>0</td>\n",
       "      <td>24.66818</td>\n",
       "      <td>71.33144</td>\n",
       "      <td>8.475744</td>\n",
       "    </tr>\n",
       "    <tr>\n",
       "      <th>1</th>\n",
       "      <td>2010</td>\n",
       "      <td>1</td>\n",
       "      <td>24.66818</td>\n",
       "      <td>71.41106</td>\n",
       "      <td>24.029778</td>\n",
       "    </tr>\n",
       "    <tr>\n",
       "      <th>2</th>\n",
       "      <td>2010</td>\n",
       "      <td>2</td>\n",
       "      <td>24.66818</td>\n",
       "      <td>71.49069</td>\n",
       "      <td>44.831635</td>\n",
       "    </tr>\n",
       "    <tr>\n",
       "      <th>3</th>\n",
       "      <td>2010</td>\n",
       "      <td>3</td>\n",
       "      <td>24.66818</td>\n",
       "      <td>71.57031</td>\n",
       "      <td>59.974419</td>\n",
       "    </tr>\n",
       "    <tr>\n",
       "      <th>4</th>\n",
       "      <td>2010</td>\n",
       "      <td>4</td>\n",
       "      <td>24.66818</td>\n",
       "      <td>71.64994</td>\n",
       "      <td>14.653370</td>\n",
       "    </tr>\n",
       "  </tbody>\n",
       "</table>\n",
       "</div>"
      ],
      "text/plain": [
       "   Year  Index  Latitude  Longitude    Biomass\n",
       "0  2010      0  24.66818   71.33144   8.475744\n",
       "1  2010      1  24.66818   71.41106  24.029778\n",
       "2  2010      2  24.66818   71.49069  44.831635\n",
       "3  2010      3  24.66818   71.57031  59.974419\n",
       "4  2010      4  24.66818   71.64994  14.653370"
      ]
     },
     "execution_count": 3,
     "metadata": {},
     "output_type": "execute_result"
    }
   ],
   "source": [
    "df.head()"
   ]
  },
  {
   "cell_type": "code",
   "execution_count": 4,
   "id": "6a706e50",
   "metadata": {},
   "outputs": [],
   "source": [
    "df = df.drop(['Latitude','Longitude'],axis=1)"
   ]
  },
  {
   "cell_type": "code",
   "execution_count": 5,
   "id": "5f6b7f91",
   "metadata": {},
   "outputs": [
    {
     "data": {
      "text/html": [
       "<div>\n",
       "<style scoped>\n",
       "    .dataframe tbody tr th:only-of-type {\n",
       "        vertical-align: middle;\n",
       "    }\n",
       "\n",
       "    .dataframe tbody tr th {\n",
       "        vertical-align: top;\n",
       "    }\n",
       "\n",
       "    .dataframe thead th {\n",
       "        text-align: right;\n",
       "    }\n",
       "</style>\n",
       "<table border=\"1\" class=\"dataframe\">\n",
       "  <thead>\n",
       "    <tr style=\"text-align: right;\">\n",
       "      <th></th>\n",
       "      <th>Year</th>\n",
       "      <th>Index</th>\n",
       "    </tr>\n",
       "  </thead>\n",
       "  <tbody>\n",
       "    <tr>\n",
       "      <th>0</th>\n",
       "      <td>2010</td>\n",
       "      <td>0</td>\n",
       "    </tr>\n",
       "    <tr>\n",
       "      <th>1</th>\n",
       "      <td>2010</td>\n",
       "      <td>1</td>\n",
       "    </tr>\n",
       "    <tr>\n",
       "      <th>2</th>\n",
       "      <td>2010</td>\n",
       "      <td>2</td>\n",
       "    </tr>\n",
       "    <tr>\n",
       "      <th>3</th>\n",
       "      <td>2010</td>\n",
       "      <td>3</td>\n",
       "    </tr>\n",
       "    <tr>\n",
       "      <th>4</th>\n",
       "      <td>2010</td>\n",
       "      <td>4</td>\n",
       "    </tr>\n",
       "  </tbody>\n",
       "</table>\n",
       "</div>"
      ],
      "text/plain": [
       "   Year  Index\n",
       "0  2010      0\n",
       "1  2010      1\n",
       "2  2010      2\n",
       "3  2010      3\n",
       "4  2010      4"
      ]
     },
     "execution_count": 5,
     "metadata": {},
     "output_type": "execute_result"
    }
   ],
   "source": [
    "X = df.drop(['Biomass'],axis=1)\n",
    "X.head()"
   ]
  },
  {
   "cell_type": "code",
   "execution_count": 8,
   "id": "f65d9511",
   "metadata": {},
   "outputs": [],
   "source": [
    "y = df.Biomass"
   ]
  },
  {
   "cell_type": "code",
   "execution_count": 9,
   "id": "efa4f80c",
   "metadata": {},
   "outputs": [],
   "source": [
    "from sklearn.model_selection import train_test_split\n",
    "\n",
    "X_train,X_test,y_train,y_test = train_test_split(X,y,test_size=0.1)"
   ]
  },
  {
   "cell_type": "code",
   "execution_count": 23,
   "id": "60ba219e",
   "metadata": {},
   "outputs": [],
   "source": [
    "from sklearn.metrics import mean_absolute_error,mean_squared_error,r2_score\n",
    "from sklearn.linear_model import LinearRegression,Ridge,Lasso\n",
    "from sklearn.neighbors import KNeighborsRegressor\n",
    "from sklearn.tree import DecisionTreeRegressor\n",
    "from sklearn.svm import SVR\n",
    "from sklearn.ensemble import RandomForestRegressor,AdaBoostRegressor\n",
    "from sklearn.svm import SVR\n",
    "from sklearn.model_selection import RandomizedSearchCV"
   ]
  },
  {
   "cell_type": "code",
   "execution_count": 24,
   "id": "1ce89653",
   "metadata": {},
   "outputs": [],
   "source": [
    "import numpy as np\n",
    "def evaluate_model(true,predicted):\n",
    "    mae = mean_absolute_error(true,predicted)\n",
    "    mse = mean_squared_error(true,predicted)\n",
    "    rmse = np.sqrt(mean_squared_error(true,predicted))\n",
    "    r2 = r2_score(true,predicted)\n",
    "    return mae,rmse,r2"
   ]
  },
  {
   "cell_type": "code",
   "execution_count": 29,
   "id": "e4d4c3f1",
   "metadata": {},
   "outputs": [
    {
     "name": "stdout",
     "output_type": "stream",
     "text": [
      "Linear Regression\n",
      "training set\n",
      "mae: 108.1788\n",
      "rmse: 141.6357\n",
      "r2 score: 0.0145\n",
      "---------------------------------------------\n",
      "testing set\n",
      "mae: 106.3528\n",
      "rmse: 135.4050\n",
      "r2 score: 0.0114\n",
      "=============================================\n",
      "\n",
      "\n",
      "Lasso\n",
      "training set\n",
      "mae: 108.1811\n",
      "rmse: 141.6364\n",
      "r2 score: 0.0145\n",
      "---------------------------------------------\n",
      "testing set\n",
      "mae: 106.3455\n",
      "rmse: 135.4026\n",
      "r2 score: 0.0115\n",
      "=============================================\n",
      "\n",
      "\n",
      "Ridge\n",
      "training set\n",
      "mae: 108.1788\n",
      "rmse: 141.6357\n",
      "r2 score: 0.0145\n",
      "---------------------------------------------\n",
      "testing set\n",
      "mae: 106.3528\n",
      "rmse: 135.4050\n",
      "r2 score: 0.0114\n",
      "=============================================\n",
      "\n",
      "\n",
      "K-Neighbors Regressor\n",
      "training set\n",
      "mae: 30.7371\n",
      "rmse: 52.6319\n",
      "r2 score: 0.8639\n",
      "---------------------------------------------\n",
      "testing set\n",
      "mae: 40.6419\n",
      "rmse: 66.7175\n",
      "r2 score: 0.7600\n",
      "=============================================\n",
      "\n",
      "\n",
      "Decision Tree\n",
      "training set\n",
      "mae: 0.0000\n",
      "rmse: 0.0000\n",
      "r2 score: 1.0000\n",
      "---------------------------------------------\n",
      "testing set\n",
      "mae: 28.9057\n",
      "rmse: 52.9364\n",
      "r2 score: 0.8489\n",
      "=============================================\n",
      "\n",
      "\n",
      "Random Forest Regressor\n",
      "training set\n",
      "mae: 8.9327\n",
      "rmse: 15.4774\n",
      "r2 score: 0.9882\n",
      "---------------------------------------------\n",
      "testing set\n",
      "mae: 23.7255\n",
      "rmse: 41.0234\n",
      "r2 score: 0.9093\n",
      "=============================================\n",
      "\n",
      "\n"
     ]
    }
   ],
   "source": [
    "models = {\n",
    "    'Linear Regression':LinearRegression(),\n",
    "    'Lasso':Lasso(),\n",
    "    'Ridge':Ridge(),\n",
    "    'K-Neighbors Regressor': KNeighborsRegressor(),\n",
    "    'Decision Tree':DecisionTreeRegressor(),\n",
    "    'Random Forest Regressor':RandomForestRegressor(),\n",
    "}\n",
    "\n",
    "modellist=[]\n",
    "r2list=[]\n",
    "\n",
    "for i in range(len(list(models))):\n",
    "    model = list(models.values())[i]\n",
    "    model.fit(X_train,y_train)\n",
    "    \n",
    "    y_train_Pred=model.predict(X_train)\n",
    "    y_test_Pred=model.predict(X_test)\n",
    "    \n",
    "    model_train_mae,model_train_rmse,model_train_r2 = evaluate_model(y_train,y_train_Pred)\n",
    "    model_test_mae,model_test_rmse,model_test_r2 = evaluate_model(y_test,y_test_Pred)\n",
    "    \n",
    "    print(list(models.keys())[i])\n",
    "    modellist.append(list(models.keys())[i])\n",
    "    \n",
    "    print('training set')\n",
    "    print('mae: {:.4f}'.format(model_train_mae))\n",
    "    print('rmse: {:.4f}'.format(model_train_rmse))\n",
    "    print('r2 score: {:.4f}'.format(model_train_r2))\n",
    "    print('---------------------------------------------')\n",
    "    \n",
    "    print('testing set')\n",
    "    print('mae: {:.4f}'.format(model_test_mae))\n",
    "    print('rmse: {:.4f}'.format(model_test_rmse))\n",
    "    print('r2 score: {:.4f}'.format(model_test_r2))\n",
    "    r2list.append(model_test_r2)\n",
    "    \n",
    "    print('=============================================')\n",
    "    print('\\n')"
   ]
  },
  {
   "cell_type": "code",
   "execution_count": 14,
   "id": "004b392c",
   "metadata": {},
   "outputs": [
    {
     "data": {
      "text/plain": [
       "RandomForestRegressor()"
      ]
     },
     "execution_count": 14,
     "metadata": {},
     "output_type": "execute_result"
    }
   ],
   "source": [
    "model.fit(X_train,y_train)"
   ]
  },
  {
   "cell_type": "code",
   "execution_count": 38,
   "id": "ec583895",
   "metadata": {},
   "outputs": [
    {
     "data": {
      "text/plain": [
       "array([   0,    1,    2, ..., 2415, 2416, 2417], dtype=int64)"
      ]
     },
     "execution_count": 38,
     "metadata": {},
     "output_type": "execute_result"
    }
   ],
   "source": [
    "df['Index'].values"
   ]
  },
  {
   "cell_type": "code",
   "execution_count": 15,
   "id": "2b638413",
   "metadata": {},
   "outputs": [
    {
     "name": "stderr",
     "output_type": "stream",
     "text": [
      "C:\\Users\\ASUS\\anaconda3\\lib\\site-packages\\sklearn\\base.py:450: UserWarning: X does not have valid feature names, but RandomForestRegressor was fitted with feature names\n",
      "  warnings.warn(\n"
     ]
    },
    {
     "data": {
      "text/plain": [
       "array([7.68553648])"
      ]
     },
     "execution_count": 15,
     "metadata": {},
     "output_type": "execute_result"
    }
   ],
   "source": [
    "model.predict([[2018,0]])"
   ]
  },
  {
   "cell_type": "code",
   "execution_count": 16,
   "id": "3d669afe",
   "metadata": {},
   "outputs": [
    {
     "name": "stderr",
     "output_type": "stream",
     "text": [
      "C:\\Users\\ASUS\\anaconda3\\lib\\site-packages\\sklearn\\base.py:450: UserWarning: X does not have valid feature names, but RandomForestRegressor was fitted with feature names\n",
      "  warnings.warn(\n"
     ]
    },
    {
     "data": {
      "text/plain": [
       "array([40.59238882])"
      ]
     },
     "execution_count": 16,
     "metadata": {},
     "output_type": "execute_result"
    }
   ],
   "source": [
    "model.predict([[2018,1]])"
   ]
  },
  {
   "cell_type": "code",
   "execution_count": 17,
   "id": "f31a1544",
   "metadata": {},
   "outputs": [
    {
     "name": "stderr",
     "output_type": "stream",
     "text": [
      "C:\\Users\\ASUS\\anaconda3\\lib\\site-packages\\sklearn\\base.py:450: UserWarning: X does not have valid feature names, but RandomForestRegressor was fitted with feature names\n",
      "  warnings.warn(\n"
     ]
    },
    {
     "data": {
      "text/plain": [
       "array([88.70281445])"
      ]
     },
     "execution_count": 17,
     "metadata": {},
     "output_type": "execute_result"
    }
   ],
   "source": [
    "model.predict([[2018,3]])"
   ]
  },
  {
   "cell_type": "code",
   "execution_count": 18,
   "id": "c20c48a7",
   "metadata": {},
   "outputs": [
    {
     "name": "stderr",
     "output_type": "stream",
     "text": [
      "C:\\Users\\ASUS\\anaconda3\\lib\\site-packages\\sklearn\\base.py:450: UserWarning: X does not have valid feature names, but RandomForestRegressor was fitted with feature names\n",
      "  warnings.warn(\n"
     ]
    },
    {
     "data": {
      "text/plain": [
       "array([71.83523792])"
      ]
     },
     "execution_count": 18,
     "metadata": {},
     "output_type": "execute_result"
    }
   ],
   "source": [
    "model.predict([[2018,2]])"
   ]
  },
  {
   "cell_type": "code",
   "execution_count": null,
   "id": "e02f0fa9",
   "metadata": {},
   "outputs": [],
   "source": []
  }
 ],
 "metadata": {
  "kernelspec": {
   "display_name": "Python 3 (ipykernel)",
   "language": "python",
   "name": "python3"
  },
  "language_info": {
   "codemirror_mode": {
    "name": "ipython",
    "version": 3
   },
   "file_extension": ".py",
   "mimetype": "text/x-python",
   "name": "python",
   "nbconvert_exporter": "python",
   "pygments_lexer": "ipython3",
   "version": "3.9.13"
  }
 },
 "nbformat": 4,
 "nbformat_minor": 5
}
